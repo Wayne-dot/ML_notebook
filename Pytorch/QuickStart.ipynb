{
 "cells": [
  {
   "cell_type": "markdown",
   "metadata": {},
   "source": [
    "Learning Pytorch\n",
    "\n",
    "Quick Start section"
   ]
  },
  {
   "cell_type": "code",
   "execution_count": 39,
   "metadata": {},
   "outputs": [
    {
     "name": "stdout",
     "output_type": "stream",
     "text": [
      "is CUDA available for torch? True\n",
      "2.3.1+cu118\n"
     ]
    }
   ],
   "source": [
    "import torch\n",
    "from torch import nn\n",
    "from torch.utils.data import DataLoader\n",
    "from torchvision import datasets\n",
    "from torchvision.transforms import ToTensor\n",
    "\n",
    "# Dataset store the sample and the label\n",
    "# DataLoader waro around Dataset\n",
    "\n",
    "print(f\"is CUDA available for torch? {torch.cuda.is_available()}\")\n",
    "print(torch.__version__)"
   ]
  },
  {
   "cell_type": "code",
   "execution_count": 40,
   "metadata": {},
   "outputs": [],
   "source": [
    "# Download data from open Dataset\n",
    "# FashionMNIST dataset\n",
    "\n",
    "training_data = datasets.FashionMNIST(root=\"data\", train=True, download=True, transform=ToTensor())\n",
    "\n",
    "test_data = datasets.FashionMNIST(root=\"data\", train=False, download=True, transform=ToTensor())\n"
   ]
  },
  {
   "cell_type": "code",
   "execution_count": 41,
   "metadata": {},
   "outputs": [
    {
     "name": "stdout",
     "output_type": "stream",
     "text": [
      "Shape of X [N, C, H, W]: torch.Size([64, 1, 28, 28])\n",
      "Shape of Y: torch.Size([64])\n"
     ]
    }
   ],
   "source": [
    "batch_size = 64\n",
    "\n",
    "# data loader\n",
    "# support automatic batching, sampling, shuffling and multiprocess data loading\n",
    "# batch size = # of sample that is going to propagate through the network\n",
    "\n",
    "train_dataloader = DataLoader(training_data, batch_size=batch_size)\n",
    "test_dataloader = DataLoader(test_data, batch_size=batch_size)\n",
    "\n",
    "for X, y in test_dataloader:\n",
    "    print(f\"Shape of X [N, C, H, W]: {X.shape}\")\n",
    "    print(f\"Shape of Y: {y.shape}\")\n",
    "    break"
   ]
  },
  {
   "cell_type": "code",
   "execution_count": 42,
   "metadata": {},
   "outputs": [
    {
     "name": "stdout",
     "output_type": "stream",
     "text": [
      "Using cuda device\n"
     ]
    }
   ],
   "source": [
    "device = (\n",
    "    \"cuda\"\n",
    "    if torch.cuda.is_available()\n",
    "    else \"mps\"\n",
    "    if torch.backends.mps.is_available()\n",
    "    else \"cpu\"\n",
    ")\n",
    "print(f\"Using {device} device\")"
   ]
  },
  {
   "cell_type": "code",
   "execution_count": 43,
   "metadata": {},
   "outputs": [],
   "source": [
    "# To define a neural net\n",
    "\n",
    "class NueralNetwork(nn.Module):\n",
    "    def __init__(self):\n",
    "        super().__init__()\n",
    "        self.flatten = nn.Flatten()\n",
    "        self.linear_relu_stack = nn.Sequential(\n",
    "            nn.Linear(28*28, 512),\n",
    "            nn.ReLU(),\n",
    "            nn.Linear(512, 512),\n",
    "            nn.Linear(512, 10)\n",
    "        )\n",
    "    def forward(self, x):\n",
    "        x = self.flatten(x)\n",
    "        logits = self.linear_relu_stack(x)\n",
    "        return logits\n"
   ]
  },
  {
   "cell_type": "code",
   "execution_count": 44,
   "metadata": {},
   "outputs": [
    {
     "name": "stdout",
     "output_type": "stream",
     "text": [
      "NueralNetwork(\n",
      "  (flatten): Flatten(start_dim=1, end_dim=-1)\n",
      "  (linear_relu_stack): Sequential(\n",
      "    (0): Linear(in_features=784, out_features=512, bias=True)\n",
      "    (1): ReLU()\n",
      "    (2): Linear(in_features=512, out_features=512, bias=True)\n",
      "    (3): Linear(in_features=512, out_features=10, bias=True)\n",
      "  )\n",
      ")\n"
     ]
    }
   ],
   "source": [
    "model = NueralNetwork().to(device)\n",
    "print(model)"
   ]
  },
  {
   "cell_type": "code",
   "execution_count": 45,
   "metadata": {},
   "outputs": [],
   "source": [
    "lose_function = nn.CrossEntropyLoss()\n",
    "optimizer = torch.optim.SGD(model.parameters(), lr=1e-3)"
   ]
  },
  {
   "cell_type": "code",
   "execution_count": 46,
   "metadata": {},
   "outputs": [],
   "source": [
    "def train(dataloader, model, loss_function, optimizer):\n",
    "    size = len(dataloader.dataset)\n",
    "    model.train()\n",
    "\n",
    "    for batch, (X, y) in enumerate(dataloader):\n",
    "        X, y = X.to(device), y.to(device)\n",
    "        \n",
    "        pred = model(X)\n",
    "        loss = loss_function(pred, y)\n",
    "        \n",
    "        loss.backward()\n",
    "        optimizer.step()\n",
    "        optimizer.zero_grad()\n",
    "        \n",
    "        if batch % 100 == 0:\n",
    "            loss, current = loss.item(), (batch + 1) * len(X)\n",
    "            print(f\"loss: {loss:>7f} [{current:>5d} / {size:>5d}]\")\n",
    "    "
   ]
  },
  {
   "cell_type": "code",
   "execution_count": 47,
   "metadata": {},
   "outputs": [],
   "source": [
    "def test(dataloader, model, lose_function):\n",
    "    size = len(dataloader.dataset)\n",
    "    num_batchs = len(dataloader)\n",
    "    model.eval()\n",
    "    test_loss, correct = 0, 0\n",
    "    with torch.no_grad():\n",
    "        for X, y in dataloader:\n",
    "            X, y = X.to(device), y.to(device)\n",
    "            pred = model(X)\n",
    "            test_loss += lose_function(pred, y).item()\n",
    "            correct += (pred.argmax(1) == y).type(torch.float).sum().item()\n",
    "            \n",
    "    test_loss /= num_batchs\n",
    "    correct /= size\n",
    "    print(f\"Test Error: \\n Accuracy: {(100*correct):>0.1f}%, Avg loss: {test_loss:>8f} \\n\")\n",
    "\n",
    "    "
   ]
  },
  {
   "cell_type": "code",
   "execution_count": 48,
   "metadata": {},
   "outputs": [
    {
     "name": "stdout",
     "output_type": "stream",
     "text": [
      "Epoch 1\n",
      "-------------------------------\n",
      "loss: 2.290290 [   64 / 60000]\n",
      "loss: 2.264224 [ 6464 / 60000]\n",
      "loss: 2.224688 [12864 / 60000]\n",
      "loss: 2.229846 [19264 / 60000]\n",
      "loss: 2.180174 [25664 / 60000]\n",
      "loss: 2.117064 [32064 / 60000]\n",
      "loss: 2.138170 [38464 / 60000]\n",
      "loss: 2.062141 [44864 / 60000]\n",
      "loss: 2.058167 [51264 / 60000]\n",
      "loss: 1.995642 [57664 / 60000]\n",
      "Test Error: \n",
      " Accuracy: 54.7%, Avg loss: 1.990338 \n",
      "\n",
      "Epoch 2\n",
      "-------------------------------\n",
      "loss: 2.003455 [   64 / 60000]\n",
      "loss: 1.982643 [ 6464 / 60000]\n",
      "loss: 1.871408 [12864 / 60000]\n",
      "loss: 1.907773 [19264 / 60000]\n",
      "loss: 1.800393 [25664 / 60000]\n",
      "loss: 1.726261 [32064 / 60000]\n",
      "loss: 1.739608 [38464 / 60000]\n",
      "loss: 1.629402 [44864 / 60000]\n",
      "loss: 1.639040 [51264 / 60000]\n",
      "loss: 1.531567 [57664 / 60000]\n",
      "Test Error: \n",
      " Accuracy: 63.2%, Avg loss: 1.554538 \n",
      "\n",
      "Epoch 3\n",
      "-------------------------------\n",
      "loss: 1.606279 [   64 / 60000]\n",
      "loss: 1.575458 [ 6464 / 60000]\n",
      "loss: 1.419807 [12864 / 60000]\n",
      "loss: 1.491731 [19264 / 60000]\n",
      "loss: 1.363459 [25664 / 60000]\n",
      "loss: 1.347513 [32064 / 60000]\n",
      "loss: 1.351648 [38464 / 60000]\n",
      "loss: 1.273868 [44864 / 60000]\n",
      "loss: 1.306383 [51264 / 60000]\n",
      "loss: 1.204282 [57664 / 60000]\n",
      "Test Error: \n",
      " Accuracy: 64.4%, Avg loss: 1.239452 \n",
      "\n",
      "Epoch 4\n",
      "-------------------------------\n",
      "loss: 1.310172 [   64 / 60000]\n",
      "loss: 1.297321 [ 6464 / 60000]\n",
      "loss: 1.124453 [12864 / 60000]\n",
      "loss: 1.239188 [19264 / 60000]\n",
      "loss: 1.105589 [25664 / 60000]\n",
      "loss: 1.124575 [32064 / 60000]\n",
      "loss: 1.141919 [38464 / 60000]\n",
      "loss: 1.077740 [44864 / 60000]\n",
      "loss: 1.117811 [51264 / 60000]\n",
      "loss: 1.038862 [57664 / 60000]\n",
      "Test Error: \n",
      " Accuracy: 65.4%, Avg loss: 1.063521 \n",
      "\n",
      "Epoch 5\n",
      "-------------------------------\n",
      "loss: 1.129774 [   64 / 60000]\n",
      "loss: 1.139254 [ 6464 / 60000]\n",
      "loss: 0.944960 [12864 / 60000]\n",
      "loss: 1.094987 [19264 / 60000]\n",
      "loss: 0.960550 [25664 / 60000]\n",
      "loss: 0.985463 [32064 / 60000]\n",
      "loss: 1.023373 [38464 / 60000]\n",
      "loss: 0.961805 [44864 / 60000]\n",
      "loss: 1.001098 [51264 / 60000]\n",
      "loss: 0.942599 [57664 / 60000]\n",
      "Test Error: \n",
      " Accuracy: 66.8%, Avg loss: 0.955982 \n",
      "\n",
      "Done!\n"
     ]
    }
   ],
   "source": [
    "epochs = 5\n",
    "model.to('cuda')\n",
    "\n",
    "for t in range(epochs):\n",
    "    print(f\"Epoch {t+1}\\n-------------------------------\")\n",
    "    train(train_dataloader, model, lose_function, optimizer)\n",
    "    test(test_dataloader, model, lose_function)\n",
    "print(\"Done!\")"
   ]
  },
  {
   "cell_type": "code",
   "execution_count": 49,
   "metadata": {},
   "outputs": [
    {
     "name": "stdout",
     "output_type": "stream",
     "text": [
      "Save Pytorch Model State to model.pth\n"
     ]
    }
   ],
   "source": [
    "# Saving the model\n",
    "\n",
    "torch.save(model.state_dict(), \"model.pth\")\n",
    "print(\"Save Pytorch Model State to model.pth\")"
   ]
  },
  {
   "cell_type": "code",
   "execution_count": 53,
   "metadata": {},
   "outputs": [
    {
     "data": {
      "text/plain": [
       "<All keys matched successfully>"
      ]
     },
     "execution_count": 53,
     "metadata": {},
     "output_type": "execute_result"
    }
   ],
   "source": [
    "# model = NeuralNetwork().to(device)\n",
    "model.load_state_dict(torch.load(\"model.pth\"))"
   ]
  },
  {
   "cell_type": "code",
   "execution_count": 55,
   "metadata": {},
   "outputs": [
    {
     "name": "stdout",
     "output_type": "stream",
     "text": [
      "Predicted: \"Ankle boot\", Actual: \"Ankle boot\"\n"
     ]
    }
   ],
   "source": [
    "classes = [\n",
    "    \"T-shirt/top\",\n",
    "    \"Trouser\",\n",
    "    \"Pullover\",\n",
    "    \"Dress\",\n",
    "    \"Coat\",\n",
    "    \"Sandal\",\n",
    "    \"Shirt\",\n",
    "    \"Sneaker\",\n",
    "    \"Bag\",\n",
    "    \"Ankle boot\",\n",
    "]\n",
    "\n",
    "model.eval()\n",
    "x, y = test_data[0][0], test_data[0][1]\n",
    "with torch.no_grad():\n",
    "    x = x.to(device)\n",
    "    pred = model(x)\n",
    "    predicted, actual = classes[pred[0].argmax(0)], classes[y]\n",
    "    print(f'Predicted: \"{predicted}\", Actual: \"{actual}\"')\n"
   ]
  },
  {
   "cell_type": "code",
   "execution_count": null,
   "metadata": {},
   "outputs": [],
   "source": []
  }
 ],
 "metadata": {
  "kernelspec": {
   "display_name": "Python 3",
   "language": "python",
   "name": "python3"
  },
  "language_info": {
   "codemirror_mode": {
    "name": "ipython",
    "version": 3
   },
   "file_extension": ".py",
   "mimetype": "text/x-python",
   "name": "python",
   "nbconvert_exporter": "python",
   "pygments_lexer": "ipython3",
   "version": "3.10.3"
  }
 },
 "nbformat": 4,
 "nbformat_minor": 2
}
